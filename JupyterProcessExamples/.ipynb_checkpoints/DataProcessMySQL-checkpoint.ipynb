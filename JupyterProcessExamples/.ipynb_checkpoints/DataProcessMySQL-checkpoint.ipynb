{
 "cells": [
  {
   "cell_type": "markdown",
   "metadata": {},
   "source": [
    "# Data Processing: MySQL\n",
    "\n",
    "A checklist by Spiracular@gmail.com\n",
    "\n",
    "Tutorial: https://medium.com/@tattwei46/how-to-use-python-with-mysql-79304bee8753\n",
    "\n",
    "Data source: https://sqlzoo.net/wiki/2015_UK_General_Election_Normalising_Data\n",
    "\n",
    "Data description (opt): \n",
    "\n",
    "<div style=\"white-space: pre-wrap; padding: 10px; background-color: #ebebeb;\">You can put a bunch of text here\n",
    "</div>\n",
    "\n",
    "Thing to try out (from [MySQL Documentation](https://dev.mysql.com/doc/connector-python/en/connector-python-api-mysqlcursor-column-names.html)):\n",
    "\n",
    "```\n",
    "cursor.execute(\"SELECT last_name, first_name, hire_date \"\n",
    "               \"FROM employees WHERE emp_no = %s\", (123,))\n",
    "row = dict(zip(cursor.column_names, cursor.fetchone()))\n",
    "print(\"{last_name}, {first_name}: {hire_date}\".format(row))\n",
    "```\n",
    "\n",
    "Also, see [this tutorial](https://www.mysqltutorial.org/mysql-cursor/) on cursor."
   ]
  },
  {
   "cell_type": "markdown",
   "metadata": {},
   "source": [
    "# Step 0: Libraries and Read In"
   ]
  },
  {
   "cell_type": "code",
   "execution_count": 2,
   "metadata": {},
   "outputs": [],
   "source": [
    "import numpy as np\n",
    "import pandas as pd\n",
    "import matplotlib.pyplot as plt\n",
    "%matplotlib inline\n",
    "#%matplotlib notebook # zoomable"
   ]
  },
  {
   "cell_type": "code",
   "execution_count": 3,
   "metadata": {},
   "outputs": [],
   "source": [
    "import seaborn as sns\n",
    "sns.set_style(\"darkgrid\")"
   ]
  },
  {
   "cell_type": "code",
   "execution_count": 4,
   "metadata": {},
   "outputs": [],
   "source": [
    "#import math"
   ]
  },
  {
   "cell_type": "code",
   "execution_count": null,
   "metadata": {},
   "outputs": [],
   "source": [
    "#from numpy import random"
   ]
  },
  {
   "cell_type": "code",
   "execution_count": null,
   "metadata": {},
   "outputs": [],
   "source": []
  },
  {
   "cell_type": "markdown",
   "metadata": {},
   "source": [
    "## Step 0.25: MySQL Connection"
   ]
  },
  {
   "cell_type": "code",
   "execution_count": 43,
   "metadata": {},
   "outputs": [],
   "source": [
    "import mysql.connector"
   ]
  },
  {
   "cell_type": "code",
   "execution_count": 44,
   "metadata": {},
   "outputs": [],
   "source": [
    "db_con = mysql.connector.connect(\n",
    "   host=\"localhost\",\n",
    "   user=\"root\",\n",
    "   passwd=\"GuavaXiw!Fandango\",\n",
    "   database=\"ge_database\"\n",
    ")"
   ]
  },
  {
   "cell_type": "code",
   "execution_count": 45,
   "metadata": {},
   "outputs": [],
   "source": [
    "cur = db_con.cursor()"
   ]
  },
  {
   "cell_type": "code",
   "execution_count": 46,
   "metadata": {},
   "outputs": [],
   "source": [
    "# mycursor.execute(\"SHOW DATABASES;\")\n",
    "# print(mycursor.fetchall())"
   ]
  },
  {
   "cell_type": "code",
   "execution_count": 47,
   "metadata": {},
   "outputs": [
    {
     "name": "stdout",
     "output_type": "stream",
     "text": [
      "[('county',), ('ge',), ('region',)]\n"
     ]
    }
   ],
   "source": [
    "cur.execute(\"SHOW TABLES;\")\n",
    "print(cur.fetchall())"
   ]
  },
  {
   "cell_type": "markdown",
   "metadata": {},
   "source": [
    "## Step 0.5: df from MySQL Query"
   ]
  },
  {
   "cell_type": "code",
   "execution_count": 61,
   "metadata": {},
   "outputs": [],
   "source": [
    "table = \"ge\""
   ]
  },
  {
   "cell_type": "code",
   "execution_count": 63,
   "metadata": {},
   "outputs": [
    {
     "data": {
      "text/html": [
       "<div>\n",
       "<style scoped>\n",
       "    .dataframe tbody tr th:only-of-type {\n",
       "        vertical-align: middle;\n",
       "    }\n",
       "\n",
       "    .dataframe tbody tr th {\n",
       "        vertical-align: top;\n",
       "    }\n",
       "\n",
       "    .dataframe thead th {\n",
       "        text-align: right;\n",
       "    }\n",
       "</style>\n",
       "<table border=\"1\" class=\"dataframe\">\n",
       "  <thead>\n",
       "    <tr style=\"text-align: right;\">\n",
       "      <th></th>\n",
       "      <th>ons_id</th>\n",
       "      <th>ons_region_id</th>\n",
       "      <th>constituency_name</th>\n",
       "      <th>county_name</th>\n",
       "      <th>region_name</th>\n",
       "      <th>country_name</th>\n",
       "      <th>constituency_type</th>\n",
       "      <th>party_name</th>\n",
       "      <th>party_abbreviation</th>\n",
       "      <th>firstname</th>\n",
       "      <th>surname</th>\n",
       "      <th>gender</th>\n",
       "      <th>sitting_mp</th>\n",
       "      <th>former_mp</th>\n",
       "      <th>votes</th>\n",
       "      <th>share</th>\n",
       "      <th>change</th>\n",
       "    </tr>\n",
       "  </thead>\n",
       "  <tbody>\n",
       "    <tr>\n",
       "      <td>0</td>\n",
       "      <td>E14000530</td>\n",
       "      <td>E12000008</td>\n",
       "      <td>Aldershot</td>\n",
       "      <td>Hampshire</td>\n",
       "      <td>South East</td>\n",
       "      <td>England</td>\n",
       "      <td>Borough</td>\n",
       "      <td>Liberal Democrat</td>\n",
       "      <td>LD</td>\n",
       "      <td>Alan</td>\n",
       "      <td>Hilliar</td>\n",
       "      <td>Male</td>\n",
       "      <td>No</td>\n",
       "      <td>No</td>\n",
       "      <td>4076</td>\n",
       "      <td>0.088242</td>\n",
       "      <td>-0.255865757</td>\n",
       "    </tr>\n",
       "    <tr>\n",
       "      <td>1</td>\n",
       "      <td>E14000530</td>\n",
       "      <td>E12000008</td>\n",
       "      <td>Aldershot</td>\n",
       "      <td>Hampshire</td>\n",
       "      <td>South East</td>\n",
       "      <td>England</td>\n",
       "      <td>Borough</td>\n",
       "      <td>UK Independence Party</td>\n",
       "      <td>UKIP</td>\n",
       "      <td>Bill</td>\n",
       "      <td>Walker</td>\n",
       "      <td>Male</td>\n",
       "      <td>No</td>\n",
       "      <td>No</td>\n",
       "      <td>8253</td>\n",
       "      <td>0.178671</td>\n",
       "      <td>0.133699373</td>\n",
       "    </tr>\n",
       "    <tr>\n",
       "      <td>2</td>\n",
       "      <td>E14000530</td>\n",
       "      <td>E12000008</td>\n",
       "      <td>Aldershot</td>\n",
       "      <td>Hampshire</td>\n",
       "      <td>South East</td>\n",
       "      <td>England</td>\n",
       "      <td>Borough</td>\n",
       "      <td>Green</td>\n",
       "      <td>Green</td>\n",
       "      <td>Carl</td>\n",
       "      <td>Hewitt</td>\n",
       "      <td>Male</td>\n",
       "      <td>No</td>\n",
       "      <td>No</td>\n",
       "      <td>2025</td>\n",
       "      <td>0.043840</td>\n",
       "      <td></td>\n",
       "    </tr>\n",
       "    <tr>\n",
       "      <td>3</td>\n",
       "      <td>E14000530</td>\n",
       "      <td>E12000008</td>\n",
       "      <td>Aldershot</td>\n",
       "      <td>Hampshire</td>\n",
       "      <td>South East</td>\n",
       "      <td>England</td>\n",
       "      <td>Borough</td>\n",
       "      <td>Labour</td>\n",
       "      <td>Lab</td>\n",
       "      <td>Gary</td>\n",
       "      <td>Puffett</td>\n",
       "      <td>Male</td>\n",
       "      <td>No</td>\n",
       "      <td>No</td>\n",
       "      <td>8468</td>\n",
       "      <td>0.183326</td>\n",
       "      <td>0.062380048</td>\n",
       "    </tr>\n",
       "    <tr>\n",
       "      <td>4</td>\n",
       "      <td>E14000530</td>\n",
       "      <td>E12000008</td>\n",
       "      <td>Aldershot</td>\n",
       "      <td>Hampshire</td>\n",
       "      <td>South East</td>\n",
       "      <td>England</td>\n",
       "      <td>Borough</td>\n",
       "      <td>Conservative</td>\n",
       "      <td>Con</td>\n",
       "      <td>Gerald</td>\n",
       "      <td>Howarth</td>\n",
       "      <td>Male</td>\n",
       "      <td>Yes</td>\n",
       "      <td>Yes</td>\n",
       "      <td>23369</td>\n",
       "      <td>0.505921</td>\n",
       "      <td>0.038729986</td>\n",
       "    </tr>\n",
       "  </tbody>\n",
       "</table>\n",
       "</div>"
      ],
      "text/plain": [
       "      ons_id ons_region_id constituency_name county_name region_name  \\\n",
       "0  E14000530     E12000008         Aldershot   Hampshire  South East   \n",
       "1  E14000530     E12000008         Aldershot   Hampshire  South East   \n",
       "2  E14000530     E12000008         Aldershot   Hampshire  South East   \n",
       "3  E14000530     E12000008         Aldershot   Hampshire  South East   \n",
       "4  E14000530     E12000008         Aldershot   Hampshire  South East   \n",
       "\n",
       "  country_name constituency_type             party_name party_abbreviation  \\\n",
       "0      England           Borough       Liberal Democrat                 LD   \n",
       "1      England           Borough  UK Independence Party               UKIP   \n",
       "2      England           Borough                  Green              Green   \n",
       "3      England           Borough                 Labour                Lab   \n",
       "4      England           Borough           Conservative                Con   \n",
       "\n",
       "  firstname  surname gender sitting_mp former_mp  votes     share  \\\n",
       "0      Alan  Hilliar   Male         No        No   4076  0.088242   \n",
       "1      Bill   Walker   Male         No        No   8253  0.178671   \n",
       "2      Carl   Hewitt   Male         No        No   2025  0.043840   \n",
       "3      Gary  Puffett   Male         No        No   8468  0.183326   \n",
       "4    Gerald  Howarth   Male        Yes       Yes  23369  0.505921   \n",
       "\n",
       "         change  \n",
       "0  -0.255865757  \n",
       "1   0.133699373  \n",
       "2                \n",
       "3   0.062380048  \n",
       "4   0.038729986  "
      ]
     },
     "execution_count": 63,
     "metadata": {},
     "output_type": "execute_result"
    }
   ],
   "source": [
    "# READ IN\n",
    "df = pd.read_sql(\"select * from {};\".format(table), con=db_con)\n",
    "df.head()"
   ]
  },
  {
   "cell_type": "code",
   "execution_count": null,
   "metadata": {},
   "outputs": [],
   "source": [
    "# # WRITE OUT\n",
    "# df.to_sql(con=con, name='table_name_for_df',\n",
    "#           if_exists='replace', flavor='mysql')"
   ]
  },
  {
   "cell_type": "markdown",
   "metadata": {},
   "source": [
    "# Step 1: Cleaning and Relabeling"
   ]
  },
  {
   "cell_type": "code",
   "execution_count": 53,
   "metadata": {},
   "outputs": [],
   "source": [
    "table = \"ge\""
   ]
  },
  {
   "cell_type": "code",
   "execution_count": 75,
   "metadata": {},
   "outputs": [],
   "source": [
    "d_cur = db_con.cursor(dictionary=True)\n",
    "\n",
    "query = '''\n",
    "SELECT *\n",
    "FROM INFORMATION_SCHEMA.COLUMNS\n",
    "WHERE TABLE_NAME = \\\"{}\\\";\n",
    "'''.format(table)\n",
    "\n",
    "d_cur.execute(query)"
   ]
  },
  {
   "cell_type": "code",
   "execution_count": 76,
   "metadata": {},
   "outputs": [
    {
     "name": "stdout",
     "output_type": "stream",
     "text": [
      "ons_id\n",
      "ons_region_id\n",
      "constituency_name\n",
      "county_name\n",
      "region_name\n",
      "country_name\n",
      "constituency_type\n",
      "party_name\n",
      "party_abbreviation\n",
      "firstname\n",
      "surname\n",
      "gender\n",
      "sitting_mp\n",
      "former_mp\n",
      "votes\n",
      "share\n",
      "change\n"
     ]
    }
   ],
   "source": [
    "for row in d_cur:\n",
    "    print(row['COLUMN_NAME'])"
   ]
  },
  {
   "cell_type": "code",
   "execution_count": 60,
   "metadata": {},
   "outputs": [
    {
     "name": "stdout",
     "output_type": "stream",
     "text": [
      "[('def', 'ge_database', 'ge', 'ons_id', 1, None, 'NO', 'varchar', 10, 10, None, None, None, 'latin1', 'latin1_swedish_ci', 'varchar(10)', 'PRI', '', 'select,insert,update,references', '', ''), ('def', 'ge_database', 'ge', 'ons_region_id', 2, None, 'YES', 'varchar', 10, 10, None, None, None, 'latin1', 'latin1_swedish_ci', 'varchar(10)', '', '', 'select,insert,update,references', '', ''), ('def', 'ge_database', 'ge', 'constituency_name', 3, None, 'YES', 'varchar', 50, 50, None, None, None, 'latin1', 'latin1_swedish_ci', 'varchar(50)', '', '', 'select,insert,update,references', '', ''), ('def', 'ge_database', 'ge', 'county_name', 4, None, 'YES', 'varchar', 50, 50, None, None, None, 'latin1', 'latin1_swedish_ci', 'varchar(50)', '', '', 'select,insert,update,references', '', ''), ('def', 'ge_database', 'ge', 'region_name', 5, None, 'YES', 'varchar', 50, 50, None, None, None, 'latin1', 'latin1_swedish_ci', 'varchar(50)', '', '', 'select,insert,update,references', '', ''), ('def', 'ge_database', 'ge', 'country_name', 6, None, 'YES', 'varchar', 50, 50, None, None, None, 'latin1', 'latin1_swedish_ci', 'varchar(50)', '', '', 'select,insert,update,references', '', ''), ('def', 'ge_database', 'ge', 'constituency_type', 7, None, 'YES', 'varchar', 10, 10, None, None, None, 'latin1', 'latin1_swedish_ci', 'varchar(10)', '', '', 'select,insert,update,references', '', ''), ('def', 'ge_database', 'ge', 'party_name', 8, None, 'YES', 'varchar', 50, 50, None, None, None, 'latin1', 'latin1_swedish_ci', 'varchar(50)', '', '', 'select,insert,update,references', '', ''), ('def', 'ge_database', 'ge', 'party_abbreviation', 9, None, 'YES', 'varchar', 50, 50, None, None, None, 'latin1', 'latin1_swedish_ci', 'varchar(50)', '', '', 'select,insert,update,references', '', ''), ('def', 'ge_database', 'ge', 'firstname', 10, None, 'NO', 'varchar', 50, 50, None, None, None, 'latin1', 'latin1_swedish_ci', 'varchar(50)', 'PRI', '', 'select,insert,update,references', '', ''), ('def', 'ge_database', 'ge', 'surname', 11, None, 'NO', 'varchar', 50, 50, None, None, None, 'latin1', 'latin1_swedish_ci', 'varchar(50)', 'PRI', '', 'select,insert,update,references', '', ''), ('def', 'ge_database', 'ge', 'gender', 12, None, 'YES', 'varchar', 6, 6, None, None, None, 'latin1', 'latin1_swedish_ci', 'varchar(6)', '', '', 'select,insert,update,references', '', ''), ('def', 'ge_database', 'ge', 'sitting_mp', 13, None, 'YES', 'varchar', 3, 3, None, None, None, 'latin1', 'latin1_swedish_ci', 'varchar(3)', '', '', 'select,insert,update,references', '', ''), ('def', 'ge_database', 'ge', 'former_mp', 14, None, 'YES', 'varchar', 3, 3, None, None, None, 'latin1', 'latin1_swedish_ci', 'varchar(3)', '', '', 'select,insert,update,references', '', ''), ('def', 'ge_database', 'ge', 'votes', 15, None, 'YES', 'int', None, None, 10, 0, None, None, None, 'int(11)', '', '', 'select,insert,update,references', '', ''), ('def', 'ge_database', 'ge', 'share', 16, None, 'YES', 'float', None, None, 12, None, None, None, None, 'float', '', '', 'select,insert,update,references', '', ''), ('def', 'ge_database', 'ge', 'change', 17, None, 'YES', 'varchar', 20, 20, None, None, None, 'latin1', 'latin1_swedish_ci', 'varchar(20)', '', '', 'select,insert,update,references', '', '')]\n"
     ]
    }
   ],
   "source": [
    "# df.columns\n",
    "\n",
    "query = '''\n",
    "SELECT *\n",
    "FROM INFORMATION_SCHEMA.COLUMNS\n",
    "WHERE TABLE_NAME = \\\"{}\\\";\n",
    "'''.format(table)\n",
    "\n",
    "cur.execute(query)\n",
    "print(cur.fetchall())"
   ]
  },
  {
   "cell_type": "code",
   "execution_count": 65,
   "metadata": {},
   "outputs": [
    {
     "data": {
      "text/plain": [
       "mysql.connector.cursor_cext.CMySQLCursor"
      ]
     },
     "execution_count": 65,
     "metadata": {},
     "output_type": "execute_result"
    }
   ],
   "source": [
    "type(cur)"
   ]
  },
  {
   "cell_type": "code",
   "execution_count": null,
   "metadata": {},
   "outputs": [],
   "source": [
    "df.head()"
   ]
  },
  {
   "cell_type": "code",
   "execution_count": null,
   "metadata": {},
   "outputs": [],
   "source": [
    "df.dtypes"
   ]
  },
  {
   "cell_type": "code",
   "execution_count": null,
   "metadata": {},
   "outputs": [],
   "source": [
    "df.describe()"
   ]
  },
  {
   "cell_type": "markdown",
   "metadata": {},
   "source": [
    "## Step 1.1: Types and Relabeling"
   ]
  },
  {
   "cell_type": "code",
   "execution_count": null,
   "metadata": {},
   "outputs": [],
   "source": [
    "#df.columns = [\"Month\", \"AntiInf_acetic\", \"AntiInf_propionic\", \"AgAp_salicyclic\", \"AgAp_pyrazones\", \"Psylep_anxiolytic\", \"Psylep_hypnotic\", \"AntiOPD\", \"Antihistamines\"]"
   ]
  },
  {
   "cell_type": "code",
   "execution_count": null,
   "metadata": {},
   "outputs": [],
   "source": [
    "df.head()"
   ]
  },
  {
   "cell_type": "markdown",
   "metadata": {},
   "source": [
    "## Step 1.2: Nans"
   ]
  },
  {
   "cell_type": "code",
   "execution_count": 51,
   "metadata": {},
   "outputs": [
    {
     "name": "stdout",
     "output_type": "stream",
     "text": [
      "[]\n"
     ]
    }
   ],
   "source": [
    "# Get coordinates of nans\n",
    "s = df.stack(dropna=False) ## See https://pandas.pydata.org/pandas-docs/stable/reference/api/pandas.DataFrame.stack.html\n",
    "L = [list(x) for x in s.index[s.isna()]]\n",
    "print (L)"
   ]
  },
  {
   "cell_type": "markdown",
   "metadata": {},
   "source": [
    "# STOP AUTO-RUN"
   ]
  },
  {
   "cell_type": "code",
   "execution_count": null,
   "metadata": {},
   "outputs": [],
   "source": [
    "assert False"
   ]
  },
  {
   "cell_type": "markdown",
   "metadata": {},
   "source": [
    "# Step 2: EDA and Histograms"
   ]
  },
  {
   "cell_type": "code",
   "execution_count": 78,
   "metadata": {},
   "outputs": [
    {
     "data": {
      "text/plain": [
       "Index(['ons_id', 'ons_region_id', 'constituency_name', 'county_name',\n",
       "       'region_name', 'country_name', 'constituency_type', 'party_name',\n",
       "       'party_abbreviation', 'firstname', 'surname', 'gender', 'sitting_mp',\n",
       "       'former_mp', 'votes', 'share', 'change'],\n",
       "      dtype='object')"
      ]
     },
     "execution_count": 78,
     "metadata": {},
     "output_type": "execute_result"
    }
   ],
   "source": [
    "df.columns"
   ]
  },
  {
   "cell_type": "code",
   "execution_count": null,
   "metadata": {},
   "outputs": [],
   "source": [
    "colname = \"AntiInf_acetic\"\n",
    "\n",
    "####\n",
    "\n",
    "plt.title(\"Hist of \" + colname)\n",
    "\n",
    "#plt.hist(df[colname])\n",
    "\n",
    "sns.distplot(df[colname])"
   ]
  },
  {
   "cell_type": "code",
   "execution_count": 77,
   "metadata": {},
   "outputs": [],
   "source": [
    "# Automatically applied column-wise\n",
    "\n",
    "def mean_normalize(df):\n",
    "    mean_normalized_df=(df-df.mean())/df.std()\n",
    "    return mean_normalized_df\n",
    "\n",
    "def minmax_normalize(df):\n",
    "    minmax_normalized_df=(df-df.min())/(df.max()-df.min())\n",
    "    return minmax_normalized_df"
   ]
  },
  {
   "cell_type": "code",
   "execution_count": null,
   "metadata": {},
   "outputs": [],
   "source": [
    "mn_df = mean_normalize(df.loc[:, df.columns != 'Month'])"
   ]
  },
  {
   "cell_type": "code",
   "execution_count": null,
   "metadata": {},
   "outputs": [],
   "source": [
    "mn_df.plot.hist(subplots=True, legend=False, title=\"Skews\")"
   ]
  },
  {
   "cell_type": "markdown",
   "metadata": {},
   "source": [
    "# Step 3: State Goals\n",
    "\n",
    "## Inputs\n",
    "\n",
    "## Outputs\n",
    "\n",
    "## Brainstorm"
   ]
  },
  {
   "cell_type": "code",
   "execution_count": null,
   "metadata": {},
   "outputs": [],
   "source": [
    "df.head()"
   ]
  },
  {
   "cell_type": "markdown",
   "metadata": {},
   "source": [
    "## Step 3.1: More Cleaning"
   ]
  },
  {
   "cell_type": "markdown",
   "metadata": {},
   "source": [
    "# Step 4: Derived Metrics and Pivot Tables\n",
    "\n",
    "(as needed)"
   ]
  },
  {
   "cell_type": "code",
   "execution_count": null,
   "metadata": {},
   "outputs": [],
   "source": []
  }
 ],
 "metadata": {
  "kernelspec": {
   "display_name": "Python 3",
   "language": "python",
   "name": "python3"
  },
  "language_info": {
   "codemirror_mode": {
    "name": "ipython",
    "version": 3
   },
   "file_extension": ".py",
   "mimetype": "text/x-python",
   "name": "python",
   "nbconvert_exporter": "python",
   "pygments_lexer": "ipython3",
   "version": "3.7.4"
  }
 },
 "nbformat": 4,
 "nbformat_minor": 4
}
