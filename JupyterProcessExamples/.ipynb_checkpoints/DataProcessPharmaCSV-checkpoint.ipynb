{
 "cells": [
  {
   "cell_type": "markdown",
   "metadata": {},
   "source": [
    "# Data Processing: Pharma CSV\n",
    "\n",
    "A checklist by Spiracular@gmail.com\n",
    "\n",
    "\n",
    "\n",
    "Data source: https://www.kaggle.com/milanzdravkovic/pharma-sales-data\n",
    "\n",
    "(Possible additional data: https://en.wikipedia.org/wiki/List_of_largest_selling_pharmaceutical_products , probably originally from IMS Health (Midas). Requires a lot of cleaning, and might have to BeautifulSoup it.)\n",
    "\n",
    "Data description (opt): https://www.kaggle.com/milanzdravkovic/pharma-sales-data\n",
    "\n",
    "<div style=\"white-space: pre-wrap; padding: 10px; background-color: #ebebeb;\">The dataset is built from the initial dataset consisted of 600000 transactional data collected in 6 years (period 2014-2019), indicating date and time of sale, pharmaceutical drug brand name and sold quantity, exported from Point-of-Sale system in the individual pharmacy. Selected group of drugs from the dataset (57 drugs) is classified to the following Anatomical Therapeutic Chemical (ATC) Classification System categories:\n",
    "\n",
    "M01AB - Anti-inflammatory and antirheumatic products, non-steroids, Acetic acid derivatives and related substances\n",
    "M01AE - Anti-inflammatory and antirheumatic products, non-steroids, Propionic acid derivatives\n",
    "N02BA - Other analgesics and antipyretics, Salicylic acid and derivatives\n",
    "N02BE/B - Other analgesics and antipyretics, Pyrazolones and Anilides\n",
    "N05B - Psycholeptics drugs, Anxiolytic drugs\n",
    "N05C - Psycholeptics drugs, Hypnotics and sedatives drugs\n",
    "R03 - Drugs for obstructive airway diseases\n",
    "R06 - Antihistamines for systemic use\n",
    "Sales data are resampled to the hourly, daily, weekly and monthly periods. Data is already pre-processed, where processing included outlier detection and treatment and missing data imputation.\n",
    "</div>"
   ]
  },
  {
   "cell_type": "markdown",
   "metadata": {},
   "source": [
    "# Step 0: Libraries and Read In"
   ]
  },
  {
   "cell_type": "code",
   "execution_count": 1,
   "metadata": {},
   "outputs": [],
   "source": [
    "import numpy as np\n",
    "import pandas as pd\n",
    "import matplotlib.pyplot as plt\n",
    "%matplotlib inline\n",
    "#%matplotlib notebook # zoomable"
   ]
  },
  {
   "cell_type": "code",
   "execution_count": 3,
   "metadata": {},
   "outputs": [],
   "source": [
    "import seaborn as sns\n",
    "sns.set_style(\"darkgrid\")"
   ]
  },
  {
   "cell_type": "code",
   "execution_count": 4,
   "metadata": {},
   "outputs": [],
   "source": [
    "#import math"
   ]
  },
  {
   "cell_type": "code",
   "execution_count": null,
   "metadata": {},
   "outputs": [],
   "source": [
    "#from numpy import random"
   ]
  },
  {
   "cell_type": "markdown",
   "metadata": {},
   "source": [
    "## Step 0.5: Read CSV"
   ]
  },
  {
   "cell_type": "code",
   "execution_count": null,
   "metadata": {},
   "outputs": [],
   "source": []
  },
  {
   "cell_type": "code",
   "execution_count": 14,
   "metadata": {},
   "outputs": [],
   "source": [
    "df = pd.read_csv(\"data/PharmaSales/salesmonthly.csv\")"
   ]
  },
  {
   "cell_type": "code",
   "execution_count": null,
   "metadata": {},
   "outputs": [],
   "source": []
  },
  {
   "cell_type": "code",
   "execution_count": null,
   "metadata": {},
   "outputs": [],
   "source": []
  },
  {
   "cell_type": "markdown",
   "metadata": {},
   "source": [
    "# Step 1: Cleaning and Relabeling"
   ]
  },
  {
   "cell_type": "code",
   "execution_count": 15,
   "metadata": {},
   "outputs": [
    {
     "data": {
      "text/plain": [
       "Index(['datum', 'M01AB', 'M01AE', 'N02BA', 'N02BE', 'N05B', 'N05C', 'R03',\n",
       "       'R06'],\n",
       "      dtype='object')"
      ]
     },
     "execution_count": 15,
     "metadata": {},
     "output_type": "execute_result"
    }
   ],
   "source": [
    "df.columns"
   ]
  },
  {
   "cell_type": "code",
   "execution_count": 16,
   "metadata": {},
   "outputs": [
    {
     "data": {
      "text/html": [
       "<div>\n",
       "<style scoped>\n",
       "    .dataframe tbody tr th:only-of-type {\n",
       "        vertical-align: middle;\n",
       "    }\n",
       "\n",
       "    .dataframe tbody tr th {\n",
       "        vertical-align: top;\n",
       "    }\n",
       "\n",
       "    .dataframe thead th {\n",
       "        text-align: right;\n",
       "    }\n",
       "</style>\n",
       "<table border=\"1\" class=\"dataframe\">\n",
       "  <thead>\n",
       "    <tr style=\"text-align: right;\">\n",
       "      <th></th>\n",
       "      <th>datum</th>\n",
       "      <th>M01AB</th>\n",
       "      <th>M01AE</th>\n",
       "      <th>N02BA</th>\n",
       "      <th>N02BE</th>\n",
       "      <th>N05B</th>\n",
       "      <th>N05C</th>\n",
       "      <th>R03</th>\n",
       "      <th>R06</th>\n",
       "    </tr>\n",
       "  </thead>\n",
       "  <tbody>\n",
       "    <tr>\n",
       "      <td>0</td>\n",
       "      <td>2014-01-31</td>\n",
       "      <td>127.69</td>\n",
       "      <td>99.090</td>\n",
       "      <td>152.100</td>\n",
       "      <td>878.030</td>\n",
       "      <td>354.0</td>\n",
       "      <td>50.0</td>\n",
       "      <td>112.0</td>\n",
       "      <td>48.2</td>\n",
       "    </tr>\n",
       "    <tr>\n",
       "      <td>1</td>\n",
       "      <td>2014-02-28</td>\n",
       "      <td>133.32</td>\n",
       "      <td>126.050</td>\n",
       "      <td>177.000</td>\n",
       "      <td>1001.900</td>\n",
       "      <td>347.0</td>\n",
       "      <td>31.0</td>\n",
       "      <td>122.0</td>\n",
       "      <td>36.2</td>\n",
       "    </tr>\n",
       "    <tr>\n",
       "      <td>2</td>\n",
       "      <td>2014-03-31</td>\n",
       "      <td>137.44</td>\n",
       "      <td>92.950</td>\n",
       "      <td>147.655</td>\n",
       "      <td>779.275</td>\n",
       "      <td>232.0</td>\n",
       "      <td>20.0</td>\n",
       "      <td>112.0</td>\n",
       "      <td>85.4</td>\n",
       "    </tr>\n",
       "    <tr>\n",
       "      <td>3</td>\n",
       "      <td>2014-04-30</td>\n",
       "      <td>113.10</td>\n",
       "      <td>89.475</td>\n",
       "      <td>130.900</td>\n",
       "      <td>698.500</td>\n",
       "      <td>209.0</td>\n",
       "      <td>18.0</td>\n",
       "      <td>97.0</td>\n",
       "      <td>73.7</td>\n",
       "    </tr>\n",
       "    <tr>\n",
       "      <td>4</td>\n",
       "      <td>2014-05-31</td>\n",
       "      <td>101.79</td>\n",
       "      <td>119.933</td>\n",
       "      <td>132.100</td>\n",
       "      <td>628.780</td>\n",
       "      <td>270.0</td>\n",
       "      <td>23.0</td>\n",
       "      <td>107.0</td>\n",
       "      <td>123.7</td>\n",
       "    </tr>\n",
       "  </tbody>\n",
       "</table>\n",
       "</div>"
      ],
      "text/plain": [
       "        datum   M01AB    M01AE    N02BA     N02BE   N05B  N05C    R03    R06\n",
       "0  2014-01-31  127.69   99.090  152.100   878.030  354.0  50.0  112.0   48.2\n",
       "1  2014-02-28  133.32  126.050  177.000  1001.900  347.0  31.0  122.0   36.2\n",
       "2  2014-03-31  137.44   92.950  147.655   779.275  232.0  20.0  112.0   85.4\n",
       "3  2014-04-30  113.10   89.475  130.900   698.500  209.0  18.0   97.0   73.7\n",
       "4  2014-05-31  101.79  119.933  132.100   628.780  270.0  23.0  107.0  123.7"
      ]
     },
     "execution_count": 16,
     "metadata": {},
     "output_type": "execute_result"
    }
   ],
   "source": [
    "df.head()"
   ]
  },
  {
   "cell_type": "code",
   "execution_count": 17,
   "metadata": {},
   "outputs": [
    {
     "data": {
      "text/plain": [
       "datum     object\n",
       "M01AB    float64\n",
       "M01AE    float64\n",
       "N02BA    float64\n",
       "N02BE    float64\n",
       "N05B     float64\n",
       "N05C     float64\n",
       "R03      float64\n",
       "R06      float64\n",
       "dtype: object"
      ]
     },
     "execution_count": 17,
     "metadata": {},
     "output_type": "execute_result"
    }
   ],
   "source": [
    "df.dtypes"
   ]
  },
  {
   "cell_type": "code",
   "execution_count": 18,
   "metadata": {},
   "outputs": [
    {
     "data": {
      "text/html": [
       "<div>\n",
       "<style scoped>\n",
       "    .dataframe tbody tr th:only-of-type {\n",
       "        vertical-align: middle;\n",
       "    }\n",
       "\n",
       "    .dataframe tbody tr th {\n",
       "        vertical-align: top;\n",
       "    }\n",
       "\n",
       "    .dataframe thead th {\n",
       "        text-align: right;\n",
       "    }\n",
       "</style>\n",
       "<table border=\"1\" class=\"dataframe\">\n",
       "  <thead>\n",
       "    <tr style=\"text-align: right;\">\n",
       "      <th></th>\n",
       "      <th>M01AB</th>\n",
       "      <th>M01AE</th>\n",
       "      <th>N02BA</th>\n",
       "      <th>N02BE</th>\n",
       "      <th>N05B</th>\n",
       "      <th>N05C</th>\n",
       "      <th>R03</th>\n",
       "      <th>R06</th>\n",
       "    </tr>\n",
       "  </thead>\n",
       "  <tbody>\n",
       "    <tr>\n",
       "      <td>count</td>\n",
       "      <td>70.000000</td>\n",
       "      <td>70.000000</td>\n",
       "      <td>70.000000</td>\n",
       "      <td>70.000000</td>\n",
       "      <td>70.000000</td>\n",
       "      <td>70.000000</td>\n",
       "      <td>70.000000</td>\n",
       "      <td>70.000000</td>\n",
       "    </tr>\n",
       "    <tr>\n",
       "      <td>mean</td>\n",
       "      <td>149.992000</td>\n",
       "      <td>116.514286</td>\n",
       "      <td>115.020843</td>\n",
       "      <td>892.542071</td>\n",
       "      <td>262.118571</td>\n",
       "      <td>17.842857</td>\n",
       "      <td>167.675000</td>\n",
       "      <td>86.662571</td>\n",
       "    </tr>\n",
       "    <tr>\n",
       "      <td>std</td>\n",
       "      <td>31.485325</td>\n",
       "      <td>27.889336</td>\n",
       "      <td>31.245899</td>\n",
       "      <td>338.843908</td>\n",
       "      <td>85.060930</td>\n",
       "      <td>8.481242</td>\n",
       "      <td>81.767979</td>\n",
       "      <td>45.859336</td>\n",
       "    </tr>\n",
       "    <tr>\n",
       "      <td>min</td>\n",
       "      <td>0.000000</td>\n",
       "      <td>0.000000</td>\n",
       "      <td>0.000000</td>\n",
       "      <td>0.000000</td>\n",
       "      <td>1.000000</td>\n",
       "      <td>0.000000</td>\n",
       "      <td>0.000000</td>\n",
       "      <td>0.000000</td>\n",
       "    </tr>\n",
       "    <tr>\n",
       "      <td>25%</td>\n",
       "      <td>137.490000</td>\n",
       "      <td>103.518250</td>\n",
       "      <td>94.375000</td>\n",
       "      <td>648.187500</td>\n",
       "      <td>223.750000</td>\n",
       "      <td>12.000000</td>\n",
       "      <td>112.000000</td>\n",
       "      <td>49.875000</td>\n",
       "    </tr>\n",
       "    <tr>\n",
       "      <td>50%</td>\n",
       "      <td>154.635000</td>\n",
       "      <td>114.840000</td>\n",
       "      <td>117.225000</td>\n",
       "      <td>865.824500</td>\n",
       "      <td>250.300000</td>\n",
       "      <td>18.000000</td>\n",
       "      <td>160.000000</td>\n",
       "      <td>74.100000</td>\n",
       "    </tr>\n",
       "    <tr>\n",
       "      <td>75%</td>\n",
       "      <td>169.000000</td>\n",
       "      <td>128.359750</td>\n",
       "      <td>133.837500</td>\n",
       "      <td>1061.580000</td>\n",
       "      <td>293.650000</td>\n",
       "      <td>23.000000</td>\n",
       "      <td>218.250000</td>\n",
       "      <td>119.807500</td>\n",
       "    </tr>\n",
       "    <tr>\n",
       "      <td>max</td>\n",
       "      <td>211.130000</td>\n",
       "      <td>222.351000</td>\n",
       "      <td>191.600000</td>\n",
       "      <td>1856.815000</td>\n",
       "      <td>492.000000</td>\n",
       "      <td>50.000000</td>\n",
       "      <td>386.000000</td>\n",
       "      <td>213.040000</td>\n",
       "    </tr>\n",
       "  </tbody>\n",
       "</table>\n",
       "</div>"
      ],
      "text/plain": [
       "            M01AB       M01AE       N02BA        N02BE        N05B       N05C  \\\n",
       "count   70.000000   70.000000   70.000000    70.000000   70.000000  70.000000   \n",
       "mean   149.992000  116.514286  115.020843   892.542071  262.118571  17.842857   \n",
       "std     31.485325   27.889336   31.245899   338.843908   85.060930   8.481242   \n",
       "min      0.000000    0.000000    0.000000     0.000000    1.000000   0.000000   \n",
       "25%    137.490000  103.518250   94.375000   648.187500  223.750000  12.000000   \n",
       "50%    154.635000  114.840000  117.225000   865.824500  250.300000  18.000000   \n",
       "75%    169.000000  128.359750  133.837500  1061.580000  293.650000  23.000000   \n",
       "max    211.130000  222.351000  191.600000  1856.815000  492.000000  50.000000   \n",
       "\n",
       "              R03         R06  \n",
       "count   70.000000   70.000000  \n",
       "mean   167.675000   86.662571  \n",
       "std     81.767979   45.859336  \n",
       "min      0.000000    0.000000  \n",
       "25%    112.000000   49.875000  \n",
       "50%    160.000000   74.100000  \n",
       "75%    218.250000  119.807500  \n",
       "max    386.000000  213.040000  "
      ]
     },
     "execution_count": 18,
     "metadata": {},
     "output_type": "execute_result"
    }
   ],
   "source": [
    "df.describe()"
   ]
  },
  {
   "cell_type": "markdown",
   "metadata": {},
   "source": [
    "## Step 1.1: Types and Relabeling"
   ]
  },
  {
   "cell_type": "code",
   "execution_count": 21,
   "metadata": {},
   "outputs": [],
   "source": [
    "df.columns = [\"Month\", \"AntiInf_acetic\", \"AntiInf_propionic\", \"AgAp_salicyclic\", \"AgAp_pyrazones\", \"Psylep_anxiolytic\", \"Psylep_hypnotic\", \"AntiOPD\", \"Antihistamines\"]"
   ]
  },
  {
   "cell_type": "code",
   "execution_count": 22,
   "metadata": {},
   "outputs": [
    {
     "data": {
      "text/html": [
       "<div>\n",
       "<style scoped>\n",
       "    .dataframe tbody tr th:only-of-type {\n",
       "        vertical-align: middle;\n",
       "    }\n",
       "\n",
       "    .dataframe tbody tr th {\n",
       "        vertical-align: top;\n",
       "    }\n",
       "\n",
       "    .dataframe thead th {\n",
       "        text-align: right;\n",
       "    }\n",
       "</style>\n",
       "<table border=\"1\" class=\"dataframe\">\n",
       "  <thead>\n",
       "    <tr style=\"text-align: right;\">\n",
       "      <th></th>\n",
       "      <th>Month</th>\n",
       "      <th>AntiInf_acetic</th>\n",
       "      <th>AntiInf_propionic</th>\n",
       "      <th>AgAp_salicyclic</th>\n",
       "      <th>AgAp_pyrazones</th>\n",
       "      <th>Psylep_anxiolytic</th>\n",
       "      <th>Psylep_hypnotic</th>\n",
       "      <th>AntiOPD</th>\n",
       "      <th>Antihistamines</th>\n",
       "    </tr>\n",
       "  </thead>\n",
       "  <tbody>\n",
       "    <tr>\n",
       "      <td>0</td>\n",
       "      <td>2014-01-31</td>\n",
       "      <td>127.69</td>\n",
       "      <td>99.090</td>\n",
       "      <td>152.100</td>\n",
       "      <td>878.030</td>\n",
       "      <td>354.0</td>\n",
       "      <td>50.0</td>\n",
       "      <td>112.0</td>\n",
       "      <td>48.2</td>\n",
       "    </tr>\n",
       "    <tr>\n",
       "      <td>1</td>\n",
       "      <td>2014-02-28</td>\n",
       "      <td>133.32</td>\n",
       "      <td>126.050</td>\n",
       "      <td>177.000</td>\n",
       "      <td>1001.900</td>\n",
       "      <td>347.0</td>\n",
       "      <td>31.0</td>\n",
       "      <td>122.0</td>\n",
       "      <td>36.2</td>\n",
       "    </tr>\n",
       "    <tr>\n",
       "      <td>2</td>\n",
       "      <td>2014-03-31</td>\n",
       "      <td>137.44</td>\n",
       "      <td>92.950</td>\n",
       "      <td>147.655</td>\n",
       "      <td>779.275</td>\n",
       "      <td>232.0</td>\n",
       "      <td>20.0</td>\n",
       "      <td>112.0</td>\n",
       "      <td>85.4</td>\n",
       "    </tr>\n",
       "    <tr>\n",
       "      <td>3</td>\n",
       "      <td>2014-04-30</td>\n",
       "      <td>113.10</td>\n",
       "      <td>89.475</td>\n",
       "      <td>130.900</td>\n",
       "      <td>698.500</td>\n",
       "      <td>209.0</td>\n",
       "      <td>18.0</td>\n",
       "      <td>97.0</td>\n",
       "      <td>73.7</td>\n",
       "    </tr>\n",
       "    <tr>\n",
       "      <td>4</td>\n",
       "      <td>2014-05-31</td>\n",
       "      <td>101.79</td>\n",
       "      <td>119.933</td>\n",
       "      <td>132.100</td>\n",
       "      <td>628.780</td>\n",
       "      <td>270.0</td>\n",
       "      <td>23.0</td>\n",
       "      <td>107.0</td>\n",
       "      <td>123.7</td>\n",
       "    </tr>\n",
       "  </tbody>\n",
       "</table>\n",
       "</div>"
      ],
      "text/plain": [
       "        Month  AntiInf_acetic  AntiInf_propionic  AgAp_salicyclic  \\\n",
       "0  2014-01-31          127.69             99.090          152.100   \n",
       "1  2014-02-28          133.32            126.050          177.000   \n",
       "2  2014-03-31          137.44             92.950          147.655   \n",
       "3  2014-04-30          113.10             89.475          130.900   \n",
       "4  2014-05-31          101.79            119.933          132.100   \n",
       "\n",
       "   AgAp_pyrazones  Psylep_anxiolytic  Psylep_hypnotic  AntiOPD  Antihistamines  \n",
       "0         878.030              354.0             50.0    112.0            48.2  \n",
       "1        1001.900              347.0             31.0    122.0            36.2  \n",
       "2         779.275              232.0             20.0    112.0            85.4  \n",
       "3         698.500              209.0             18.0     97.0            73.7  \n",
       "4         628.780              270.0             23.0    107.0           123.7  "
      ]
     },
     "execution_count": 22,
     "metadata": {},
     "output_type": "execute_result"
    }
   ],
   "source": [
    "df.head()"
   ]
  },
  {
   "cell_type": "markdown",
   "metadata": {},
   "source": [
    "## Step 1.2: Nans"
   ]
  },
  {
   "cell_type": "code",
   "execution_count": 30,
   "metadata": {},
   "outputs": [
    {
     "name": "stdout",
     "output_type": "stream",
     "text": [
      "[]\n"
     ]
    }
   ],
   "source": [
    "# Get coordinates of nans\n",
    "s = df.stack(dropna=False) ## See https://pandas.pydata.org/pandas-docs/stable/reference/api/pandas.DataFrame.stack.html\n",
    "L = [list(x) for x in s.index[s.isna()]]\n",
    "print (L)"
   ]
  },
  {
   "cell_type": "markdown",
   "metadata": {},
   "source": [
    "# STOP AUTO-RUN"
   ]
  },
  {
   "cell_type": "code",
   "execution_count": null,
   "metadata": {},
   "outputs": [],
   "source": [
    "assert False"
   ]
  },
  {
   "cell_type": "markdown",
   "metadata": {},
   "source": [
    "# Step 2: EDA and Histograms"
   ]
  },
  {
   "cell_type": "code",
   "execution_count": 48,
   "metadata": {},
   "outputs": [
    {
     "data": {
      "text/plain": [
       "Index(['Month', 'AntiInf_acetic', 'AntiInf_propionic', 'AgAp_salicyclic',\n",
       "       'AgAp_pyrazones', 'Psylep_anxiolytic', 'Psylep_hypnotic', 'AntiOPD',\n",
       "       'Antihistamines'],\n",
       "      dtype='object')"
      ]
     },
     "execution_count": 48,
     "metadata": {},
     "output_type": "execute_result"
    }
   ],
   "source": [
    "df.columns"
   ]
  },
  {
   "cell_type": "code",
   "execution_count": 28,
   "metadata": {},
   "outputs": [
    {
     "data": {
      "text/plain": [
       "<matplotlib.axes._subplots.AxesSubplot at 0x7fdbc02f4b90>"
      ]
     },
     "execution_count": 28,
     "metadata": {},
     "output_type": "execute_result"
    },
    {
     "data": {
      "image/png": "[encoded data removed]",
      "text/plain": [
       "<Figure size 432x288 with 1 Axes>"
      ]
     },
     "metadata": {},
     "output_type": "display_data"
    }
   ],
   "source": [
    "colname = \"AntiInf_acetic\"\n",
    "\n",
    "####\n",
    "\n",
    "plt.title(\"Hist of \" + colname)\n",
    "\n",
    "#plt.hist(df[colname])\n",
    "\n",
    "sns.distplot(df[colname])"
   ]
  },
  {
   "cell_type": "code",
   "execution_count": 41,
   "metadata": {},
   "outputs": [],
   "source": [
    "# Automatically applied column-wise\n",
    "\n",
    "def mean_normalize(df):\n",
    "    mean_normalized_df=(df-df.mean())/df.std()\n",
    "    return mean_normalized_df\n",
    "\n",
    "def minmax_normalize(df):\n",
    "    minmax_normalized_df=(df-df.min())/(df.max()-df.min())\n",
    "    return minmax_normalized_df"
   ]
  },
  {
   "cell_type": "code",
   "execution_count": 42,
   "metadata": {},
   "outputs": [],
   "source": [
    "mn_df = mean_normalize(df.loc[:, df.columns != 'Month'])"
   ]
  },
  {
   "cell_type": "code",
   "execution_count": 45,
   "metadata": {},
   "outputs": [
    {
     "data": {
      "text/plain": [
       "array([<matplotlib.axes._subplots.AxesSubplot object at 0x7fdba8c52ed0>,\n",
       "       <matplotlib.axes._subplots.AxesSubplot object at 0x7fdba8c60dd0>,\n",
       "       <matplotlib.axes._subplots.AxesSubplot object at 0x7fdba8bbefd0>,\n",
       "       <matplotlib.axes._subplots.AxesSubplot object at 0x7fdba8aff650>,\n",
       "       <matplotlib.axes._subplots.AxesSubplot object at 0x7fdba8d07cd0>,\n",
       "       <matplotlib.axes._subplots.AxesSubplot object at 0x7fdba8a6aed0>,\n",
       "       <matplotlib.axes._subplots.AxesSubplot object at 0x7fdba89f7a10>,\n",
       "       <matplotlib.axes._subplots.AxesSubplot object at 0x7fdba8b420d0>],\n",
       "      dtype=object)"
      ]
     },
     "execution_count": 45,
     "metadata": {},
     "output_type": "execute_result"
    },
    {
     "data": {
      "image/png": "[encoded data removed]",
      "text/plain": [
       "<Figure size 432x288 with 8 Axes>"
      ]
     },
     "metadata": {},
     "output_type": "display_data"
    }
   ],
   "source": [
    "mn_df.plot.hist(subplots=True, legend=False, title=\"Skews\")"
   ]
  },
  {
   "cell_type": "markdown",
   "metadata": {},
   "source": [
    "# Step 3: State Goals\n",
    "\n",
    "## Inputs\n",
    "\n",
    "## Outputs\n",
    "\n",
    "## Brainstorm"
   ]
  },
  {
   "cell_type": "code",
   "execution_count": 13,
   "metadata": {},
   "outputs": [
    {
     "data": {
      "text/html": [
       "<div>\n",
       "<style scoped>\n",
       "    .dataframe tbody tr th:only-of-type {\n",
       "        vertical-align: middle;\n",
       "    }\n",
       "\n",
       "    .dataframe tbody tr th {\n",
       "        vertical-align: top;\n",
       "    }\n",
       "\n",
       "    .dataframe thead th {\n",
       "        text-align: right;\n",
       "    }\n",
       "</style>\n",
       "<table border=\"1\" class=\"dataframe\">\n",
       "  <thead>\n",
       "    <tr style=\"text-align: right;\">\n",
       "      <th></th>\n",
       "      <th>Month</th>\n",
       "      <th>AntiI_acetic</th>\n",
       "      <th>AntiI_propionic</th>\n",
       "      <th>AgAp_salicyclic</th>\n",
       "      <th>AgAp_pyrazones</th>\n",
       "      <th>Psylep_anxiolytic</th>\n",
       "      <th>Psylep_hypnotic</th>\n",
       "      <th>AntiOPD</th>\n",
       "      <th>Antihistamines</th>\n",
       "    </tr>\n",
       "  </thead>\n",
       "  <tbody>\n",
       "    <tr>\n",
       "      <td>0</td>\n",
       "      <td>2014-01-31</td>\n",
       "      <td>127.69</td>\n",
       "      <td>99.090</td>\n",
       "      <td>152.100</td>\n",
       "      <td>878.030</td>\n",
       "      <td>354.0</td>\n",
       "      <td>50.0</td>\n",
       "      <td>112.0</td>\n",
       "      <td>48.2</td>\n",
       "    </tr>\n",
       "    <tr>\n",
       "      <td>1</td>\n",
       "      <td>2014-02-28</td>\n",
       "      <td>133.32</td>\n",
       "      <td>126.050</td>\n",
       "      <td>177.000</td>\n",
       "      <td>1001.900</td>\n",
       "      <td>347.0</td>\n",
       "      <td>31.0</td>\n",
       "      <td>122.0</td>\n",
       "      <td>36.2</td>\n",
       "    </tr>\n",
       "    <tr>\n",
       "      <td>2</td>\n",
       "      <td>2014-03-31</td>\n",
       "      <td>137.44</td>\n",
       "      <td>92.950</td>\n",
       "      <td>147.655</td>\n",
       "      <td>779.275</td>\n",
       "      <td>232.0</td>\n",
       "      <td>20.0</td>\n",
       "      <td>112.0</td>\n",
       "      <td>85.4</td>\n",
       "    </tr>\n",
       "    <tr>\n",
       "      <td>3</td>\n",
       "      <td>2014-04-30</td>\n",
       "      <td>113.10</td>\n",
       "      <td>89.475</td>\n",
       "      <td>130.900</td>\n",
       "      <td>698.500</td>\n",
       "      <td>209.0</td>\n",
       "      <td>18.0</td>\n",
       "      <td>97.0</td>\n",
       "      <td>73.7</td>\n",
       "    </tr>\n",
       "    <tr>\n",
       "      <td>4</td>\n",
       "      <td>2014-05-31</td>\n",
       "      <td>101.79</td>\n",
       "      <td>119.933</td>\n",
       "      <td>132.100</td>\n",
       "      <td>628.780</td>\n",
       "      <td>270.0</td>\n",
       "      <td>23.0</td>\n",
       "      <td>107.0</td>\n",
       "      <td>123.7</td>\n",
       "    </tr>\n",
       "  </tbody>\n",
       "</table>\n",
       "</div>"
      ],
      "text/plain": [
       "        Month  AntiI_acetic  AntiI_propionic  AgAp_salicyclic  AgAp_pyrazones  \\\n",
       "0  2014-01-31        127.69           99.090          152.100         878.030   \n",
       "1  2014-02-28        133.32          126.050          177.000        1001.900   \n",
       "2  2014-03-31        137.44           92.950          147.655         779.275   \n",
       "3  2014-04-30        113.10           89.475          130.900         698.500   \n",
       "4  2014-05-31        101.79          119.933          132.100         628.780   \n",
       "\n",
       "   Psylep_anxiolytic  Psylep_hypnotic  AntiOPD  Antihistamines  \n",
       "0              354.0             50.0    112.0            48.2  \n",
       "1              347.0             31.0    122.0            36.2  \n",
       "2              232.0             20.0    112.0            85.4  \n",
       "3              209.0             18.0     97.0            73.7  \n",
       "4              270.0             23.0    107.0           123.7  "
      ]
     },
     "execution_count": 13,
     "metadata": {},
     "output_type": "execute_result"
    }
   ],
   "source": [
    "df.head()"
   ]
  },
  {
   "cell_type": "markdown",
   "metadata": {},
   "source": [
    "## Step 3.1: More Cleaning"
   ]
  },
  {
   "cell_type": "markdown",
   "metadata": {},
   "source": [
    "# Step 4: Derived Metrics and Pivot Tables\n",
    "\n",
    "(as needed)"
   ]
  },
  {
   "cell_type": "code",
   "execution_count": null,
   "metadata": {},
   "outputs": [],
   "source": []
  }
 ],
 "metadata": {
  "kernelspec": {
   "display_name": "Python 3",
   "language": "python",
   "name": "python3"
  },
  "language_info": {
   "codemirror_mode": {
    "name": "ipython",
    "version": 3
   },
   "file_extension": ".py",
   "mimetype": "text/x-python",
   "name": "python",
   "nbconvert_exporter": "python",
   "pygments_lexer": "ipython3",
   "version": "3.7.4"
  }
 },
 "nbformat": 4,
 "nbformat_minor": 4
}
